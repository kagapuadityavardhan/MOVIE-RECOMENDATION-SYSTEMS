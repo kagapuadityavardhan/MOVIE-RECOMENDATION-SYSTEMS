{
  "nbformat": 4,
  "nbformat_minor": 0,
  "metadata": {
    "colab": {
      "provenance": []
    },
    "kernelspec": {
      "name": "python3",
      "display_name": "Python 3"
    },
    "language_info": {
      "name": "python"
    }
  },
  "cells": [
    {
      "cell_type": "code",
      "source": [
        "import pandas as pd\n",
        "import re\n",
        "import numpy as np\n",
        "import nltk\n",
        "from sklearn.feature_extraction.text import TfidfVectorizer\n",
        "from sklearn.metrics.pairwise import cosine_similarity\n",
        "from sentence_transformers import SentenceTransformer\n",
        "import BM25\n",
        "\n",
        "nltk.download('stopwords')\n",
        "nltk.download('punkt')\n",
        "\n",
        "class MovieRecommender:\n",
        "\n",
        "    def __init__(self, filename, columns, t_column, d_column):\n",
        "        self.filename = filename\n",
        "        self.columns = columns\n",
        "        self.title_column = t_column\n",
        "        self.description_column = d_column\n",
        "        self.df = None\n",
        "\n",
        "    def process(self, show=True):\n",
        "        self.df = pd.read_csv(self.filename)\n",
        "        self.df = self.df[self.columns]\n",
        "        self.df[self.description_column].fillna('', inplace=True)\n",
        "        self.df[self.description_column] = self.df[self.title_column] + '. ' +  self.df[self.description_column].map(str)\n",
        "        self.df.dropna(inplace=True)\n",
        "        self.df.drop_duplicates(inplace=True)\n",
        "        return self.df\n",
        "\n",
        "    def show_df_records(self, n = 5):\n",
        "        return self.df.head(n)\n",
        "\n",
        "    def show_info_details(self):\n",
        "        return self.df.info()\n",
        "\n",
        "    def __normalize(self, d):\n",
        "        stopwords = nltk.corpus.stopwords.words('english')\n",
        "        d = re.sub(r'[^a-zA-Z0-9\\s]', '', d, re.I|re.A)\n",
        "        d = d.lower().strip()\n",
        "        tks = nltk.word_tokenize(d)\n",
        "        f_tks = [t for t in tks if t not in stopwords]\n",
        "        return ' '.join(f_tks)\n",
        "\n",
        "    def get_normalized_corpus(self, tokens = False):\n",
        "        n_corpus = np.vectorize(self.__normalize)\n",
        "        if tokens == True:\n",
        "            norm_courpus = n_corpus(list(self.df[self.description_column]))\n",
        "            return np.array([nltk.word_tokenize(d) for d in norm_corpus])\n",
        "        else:\n",
        "            return n_corpus(list(self.df[self.description_column]))\n",
        "\n",
        "    def get_features(self, norm_corpus):\n",
        "        tf_idf = TfidfVectorizer(ngram_range=(1,2), min_df=2)\n",
        "        tfidf_array = tf_idf.fit_transform(norm_corpus)\n",
        "        return tfidf_array\n",
        "\n",
        "    def get_vector_cosine(self, tfidf_array):\n",
        "        return pd.DataFrame(cosine_similarity(tfidf_array))\n",
        "\n",
        "    def get_bm25_weights(self, corpus):\n",
        "\n",
        "        bm25 = BM25(corpus)\n",
        "        avg_idf = sum(float(val) for val in bm25.idf.values()) / len(bm25.idf)\n",
        "\n",
        "        weights = []\n",
        "        for doc in corpus:\n",
        "            scores = bm25.get_scores(doc, avg_idf)\n",
        "            weights.append(scores)\n",
        "\n",
        "        return pd.DataFrame(weights)\n",
        "\n",
        "    def get_bert_weights(self, corpus):\n",
        "        model = SentenceTransformer('bert-base-nli-mean-tokens')\n",
        "        vectors = model.encode(corpus)\n",
        "        weights = pd.DataFrame(cosine_similarity(vectors))\n",
        "\n",
        "        return weights\n",
        "\n",
        "    def search_movies_by_term(self, term='movie'):\n",
        "        movies = self.df[self.title_column].values\n",
        "        possible_options = [(i, movie) for i, movie in enumerate(movies) for word in movie.split(' ') if word == term]\n",
        "        return possible_options\n",
        "\n",
        "    def recommendation(self, index, vector, n):\n",
        "        similarities = vector.iloc[index].values\n",
        "        similar_indices = np.argsort(-similarities)[1:n + 1]\n",
        "        movies = self.df[self.title_column].values\n",
        "        similar_movies =  movies[similar_indices]\n",
        "        return similar_movies"
      ],
      "metadata": {
        "colab": {
          "base_uri": "https://localhost:8080/"
        },
        "id": "16Cs1g3od_Wb",
        "outputId": "ad69b119-8e28-4a63-9dba-3af8cc8786e8"
      },
      "execution_count": 3,
      "outputs": [
        {
          "output_type": "stream",
          "name": "stderr",
          "text": [
            "[nltk_data] Downloading package stopwords to /root/nltk_data...\n",
            "[nltk_data]   Unzipping corpora/stopwords.zip.\n",
            "[nltk_data] Downloading package punkt to /root/nltk_data...\n",
            "[nltk_data]   Unzipping tokenizers/punkt.zip.\n"
          ]
        }
      ]
    }
  ]
}